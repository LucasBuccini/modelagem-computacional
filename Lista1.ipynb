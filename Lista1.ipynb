{
 "cells": [
  {
   "cell_type": "markdown",
   "metadata": {},
   "source": [
    "Lista 1 - Revisao\n",
    "Nome: Lucas Mendes Buccini"
   ]
  },
  {
   "cell_type": "code",
   "execution_count": 7,
   "metadata": {},
   "outputs": [
    {
     "name": "stdout",
     "output_type": "stream",
     "text": [
      "Salario de R$: 2892.75\n"
     ]
    }
   ],
   "source": [
    "def calcularSalario(valorHora, hora, horaextra):\n",
    "    return (hora*valorHora + 2*horaextra*valorHora)\n",
    "print(f\"Salario de R$: {calcularSalario(14.25, 163, 20)}\")\n"
   ]
  },
  {
   "cell_type": "code",
   "execution_count": null,
   "metadata": {},
   "outputs": [
    {
     "name": "stdout",
     "output_type": "stream",
     "text": [
      "É um triangulo equilatero\n"
     ]
    }
   ],
   "source": [
    "def verificarTriangulo(a,b,c):\n",
    "    if(a+b>c and b+c>a and c+a>b):\n",
    "        if(a==b==c):\n",
    "            return \"É um triangulo equilatero\"\n",
    "        elif(a==b or b==c or c==a):\n",
    "            return \"É um triangulo isosceles\"\n",
    "        else:\n",
    "            return \"É um triangulo escaleno\"\n",
    "    else:\n",
    "        return \"Não é um triangulo\"\n",
    "\n",
    "a = float(input(\"Lado 1: \"))\n",
    "b = float(input(\"Lado 2: \"))\n",
    "c = float(input(\"Lado 3: \"))\n",
    "print(verificarTriangulo(a,b,c))"
   ]
  },
  {
   "cell_type": "code",
   "execution_count": 15,
   "metadata": {},
   "outputs": [
    {
     "name": "stdout",
     "output_type": "stream",
     "text": [
      "Maior: 3, Menor: 1, Media: 2.0, Soma: 6, Tamanho: 3\n"
     ]
    }
   ],
   "source": [
    "def programaIntPositivo():\n",
    "    lista = []\n",
    "    x=1\n",
    "    media = 0\n",
    "    while(x>0):\n",
    "        x = int(input(\"Digite um numero: \"))\n",
    "        if(x>0):    \n",
    "            lista.append(x)\n",
    "            media+=x\n",
    "    media = media/len(lista)\n",
    "    print(f\"Maior: {max(lista)}, Menor: {min(lista)}, Media: {media}, Soma: {sum(lista)}, Tamanho: {len(lista)}\")\n",
    "\n",
    "programaIntPositivo()"
   ]
  }
 ],
 "metadata": {
  "kernelspec": {
   "display_name": "Python 3",
   "language": "python",
   "name": "python3"
  },
  "language_info": {
   "codemirror_mode": {
    "name": "ipython",
    "version": 3
   },
   "file_extension": ".py",
   "mimetype": "text/x-python",
   "name": "python",
   "nbconvert_exporter": "python",
   "pygments_lexer": "ipython3",
   "version": "3.13.1"
  }
 },
 "nbformat": 4,
 "nbformat_minor": 2
}
